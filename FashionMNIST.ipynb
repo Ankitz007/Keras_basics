{
  "nbformat": 4,
  "nbformat_minor": 0,
  "metadata": {
    "colab": {
      "name": "FashionMNIST.ipynb",
      "provenance": [],
      "collapsed_sections": [],
      "authorship_tag": "ABX9TyMTvrGZMQnJjY4dHW+RfikW"
    },
    "kernelspec": {
      "name": "python3",
      "display_name": "Python 3"
    },
    "accelerator": "TPU"
  },
  "cells": [
    {
      "cell_type": "code",
      "metadata": {
        "id": "-P5tR0zdKmrF",
        "colab_type": "code",
        "colab": {}
      },
      "source": [
        "import tensorflow as tf\n",
        "import keras"
      ],
      "execution_count": 0,
      "outputs": []
    },
    {
      "cell_type": "code",
      "metadata": {
        "id": "PurUz1_Gfq2H",
        "colab_type": "code",
        "colab": {}
      },
      "source": [
        "# Let's employ the Callbacks from Keras\n",
        "class MyCallBack(keras.callbacks.Callback):\n",
        "  def on_epoch_end(self, epoch, logs={}):            # on_epoch_end is a custom keras callback\n",
        "    if(logs.get('accuracy')>0.95):\n",
        "      print(\"Reached 95% accuracy; Cancelling further training..\")\n",
        "      self.model.stop_training = True"
      ],
      "execution_count": 0,
      "outputs": []
    },
    {
      "cell_type": "code",
      "metadata": {
        "id": "aRqHLxFsjxUQ",
        "colab_type": "code",
        "colab": {}
      },
      "source": [
        "# using the callback class to instantiate an object\n",
        "my_calls = MyCallBack()"
      ],
      "execution_count": 0,
      "outputs": []
    },
    {
      "cell_type": "code",
      "metadata": {
        "id": "-yxjGZkcKus9",
        "colab_type": "code",
        "colab": {}
      },
      "source": [
        "# Loading the fashion_MNIST dataset from Keras \n",
        "mnist = keras.datasets.fashion_mnist\n",
        "(train_img, train_lbl),(test_img, test_lbl) = mnist.load_data()"
      ],
      "execution_count": 0,
      "outputs": []
    },
    {
      "cell_type": "code",
      "metadata": {
        "id": "5hp5aHhaK82G",
        "colab_type": "code",
        "colab": {}
      },
      "source": [
        "# Normalizing the input images (Not required if better accuracy is needed)\n",
        "train_img = train_img/255.0\n",
        "test_img = test_img/255.0"
      ],
      "execution_count": 0,
      "outputs": []
    },
    {
      "cell_type": "code",
      "metadata": {
        "id": "KNkUrwaQLoKi",
        "colab_type": "code",
        "outputId": "4b4eca68-1367-4eef-da58-3bea7457b6a7",
        "colab": {
          "base_uri": "https://localhost:8080/",
          "height": 255
        }
      },
      "source": [
        "# creating our model with one hidden layer and one input and output layer\n",
        "# activations used are relu and softmax\n",
        "# finally, summary of our model has been printed using the summary() method\n",
        "model = keras.Sequential([\n",
        "                          keras.layers.Flatten(input_shape= (28,28)),\n",
        "                          keras.layers.Dense(128, activation=tf.nn.relu),\n",
        "                          keras.layers.Dense(10, activation=tf.nn.softmax)\n",
        "])\n",
        "model.summary()"
      ],
      "execution_count": 0,
      "outputs": [
        {
          "output_type": "stream",
          "text": [
            "Model: \"sequential_2\"\n",
            "_________________________________________________________________\n",
            "Layer (type)                 Output Shape              Param #   \n",
            "=================================================================\n",
            "flatten_2 (Flatten)          (None, 784)               0         \n",
            "_________________________________________________________________\n",
            "dense_3 (Dense)              (None, 128)               100480    \n",
            "_________________________________________________________________\n",
            "dense_4 (Dense)              (None, 10)                1290      \n",
            "=================================================================\n",
            "Total params: 101,770\n",
            "Trainable params: 101,770\n",
            "Non-trainable params: 0\n",
            "_________________________________________________________________\n"
          ],
          "name": "stdout"
        }
      ]
    },
    {
      "cell_type": "code",
      "metadata": {
        "id": "Tn0T20B4MSUq",
        "colab_type": "code",
        "outputId": "fe6511f3-ffb9-4f25-f9d7-d9f4b25803f1",
        "colab": {
          "base_uri": "https://localhost:8080/",
          "height": 204
        }
      },
      "source": [
        "# compiling our model\n",
        "# optimizer used is Adam and the loss function used is sparse_categorical_crossentropy\n",
        "# no. of epochs has been set to 5 and the callback has been included in the fit method\n",
        "model.compile(optimizer='Adam',loss='sparse_categorical_crossentropy', metrics=['accuracy'] )\n",
        "model.fit(train_img, train_lbl, epochs=5, callbacks=[my_calls])"
      ],
      "execution_count": 0,
      "outputs": [
        {
          "output_type": "stream",
          "text": [
            "Epoch 1/5\n",
            "60000/60000 [==============================] - 5s 81us/step - loss: 0.4950 - accuracy: 0.8243\n",
            "Epoch 2/5\n",
            "60000/60000 [==============================] - 5s 79us/step - loss: 0.3718 - accuracy: 0.8657\n",
            "Epoch 3/5\n",
            "60000/60000 [==============================] - 5s 79us/step - loss: 0.3347 - accuracy: 0.8781\n",
            "Epoch 4/5\n",
            "60000/60000 [==============================] - 5s 79us/step - loss: 0.3110 - accuracy: 0.8853\n",
            "Epoch 5/5\n",
            "60000/60000 [==============================] - 5s 81us/step - loss: 0.2936 - accuracy: 0.8921\n"
          ],
          "name": "stdout"
        },
        {
          "output_type": "execute_result",
          "data": {
            "text/plain": [
              "<keras.callbacks.callbacks.History at 0x7f620ac71ac8>"
            ]
          },
          "metadata": {
            "tags": []
          },
          "execution_count": 15
        }
      ]
    },
    {
      "cell_type": "code",
      "metadata": {
        "id": "19jVDxXyNLR6",
        "colab_type": "code",
        "outputId": "598458fb-1dd6-4a4a-c85f-73d831c93af2",
        "colab": {
          "base_uri": "https://localhost:8080/",
          "height": 51
        }
      },
      "source": [
        "# evaluating the test set from our trained model\n",
        "model.evaluate(test_img, test_lbl)"
      ],
      "execution_count": 0,
      "outputs": [
        {
          "output_type": "stream",
          "text": [
            "10000/10000 [==============================] - 0s 27us/step\n"
          ],
          "name": "stdout"
        },
        {
          "output_type": "execute_result",
          "data": {
            "text/plain": [
              "[0.35781640377044677, 0.8745999932289124]"
            ]
          },
          "metadata": {
            "tags": []
          },
          "execution_count": 16
        }
      ]
    }
  ]
}