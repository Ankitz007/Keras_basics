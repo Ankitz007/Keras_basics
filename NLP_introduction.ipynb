{
  "nbformat": 4,
  "nbformat_minor": 0,
  "metadata": {
    "colab": {
      "name": "NLP_introduction.ipynb",
      "provenance": [],
      "collapsed_sections": [],
      "authorship_tag": "ABX9TyOYU29N/YGj9gx9msrvszCj"
    },
    "kernelspec": {
      "name": "python3",
      "display_name": "Python 3"
    }
  },
  "cells": [
    {
      "cell_type": "code",
      "metadata": {
        "id": "vp_CXsELSgu2",
        "colab_type": "code",
        "colab": {}
      },
      "source": [
        "import tensorflow as tf\n",
        "import keras\n",
        "from keras.preprocessing.text import Tokenizer"
      ],
      "execution_count": 0,
      "outputs": []
    },
    {
      "cell_type": "code",
      "metadata": {
        "id": "lQ8yFDmUWGcX",
        "colab_type": "code",
        "colab": {}
      },
      "source": [
        "sentences = [\"I love my dog\", \"I love my cat\", \"Do you love my Dog?\",\"Do you think my Dog is amazing?\"]"
      ],
      "execution_count": 0,
      "outputs": []
    },
    {
      "cell_type": "code",
      "metadata": {
        "id": "TUIS2IyfWNaR",
        "colab_type": "code",
        "outputId": "2807cb06-f41c-497c-8f4e-62b0249d3f9b",
        "colab": {
          "base_uri": "https://localhost:8080/",
          "height": 34
        }
      },
      "source": [
        "tokenizer = Tokenizer(oov_token=\"XDX\")\n",
        "tokenizer.fit_on_texts(sentences)\n",
        "word_index = tokenizer.word_index\n",
        "print(word_index)"
      ],
      "execution_count": 0,
      "outputs": [
        {
          "output_type": "stream",
          "text": [
            "{'XDX': 1, 'my': 2, 'love': 3, 'dog': 4, 'i': 5, 'do': 6, 'you': 7, 'cat': 8, 'think': 9, 'is': 10, 'amazing': 11}\n"
          ],
          "name": "stdout"
        }
      ]
    },
    {
      "cell_type": "code",
      "metadata": {
        "id": "lqu4xvrMXdUr",
        "colab_type": "code",
        "outputId": "64158edc-d4b9-49a9-8717-b8cc23d72cdf",
        "colab": {
          "base_uri": "https://localhost:8080/",
          "height": 241
        }
      },
      "source": [
        "# Get the configuration of the tokenizer in the form of a dictionary output\n",
        "tokenizer.get_config()"
      ],
      "execution_count": 0,
      "outputs": [
        {
          "output_type": "execute_result",
          "data": {
            "text/plain": [
              "{'char_level': False,\n",
              " 'document_count': 4,\n",
              " 'filters': '!\"#$%&()*+,-./:;<=>?@[\\\\]^_`{|}~\\t\\n',\n",
              " 'index_docs': '{\"2\": 4, \"4\": 3, \"5\": 2, \"3\": 3, \"8\": 1, \"7\": 2, \"6\": 2, \"11\": 1, \"9\": 1, \"10\": 1}',\n",
              " 'index_word': '{\"1\": \"XDX\", \"2\": \"my\", \"3\": \"love\", \"4\": \"dog\", \"5\": \"i\", \"6\": \"do\", \"7\": \"you\", \"8\": \"cat\", \"9\": \"think\", \"10\": \"is\", \"11\": \"amazing\"}',\n",
              " 'lower': True,\n",
              " 'num_words': None,\n",
              " 'oov_token': 'XDX',\n",
              " 'split': ' ',\n",
              " 'word_counts': '{\"i\": 2, \"love\": 3, \"my\": 4, \"dog\": 3, \"cat\": 1, \"do\": 2, \"you\": 2, \"think\": 1, \"is\": 1, \"amazing\": 1}',\n",
              " 'word_docs': '{\"my\": 4, \"dog\": 3, \"i\": 2, \"love\": 3, \"cat\": 1, \"you\": 2, \"do\": 2, \"amazing\": 1, \"think\": 1, \"is\": 1}',\n",
              " 'word_index': '{\"XDX\": 1, \"my\": 2, \"love\": 3, \"dog\": 4, \"i\": 5, \"do\": 6, \"you\": 7, \"cat\": 8, \"think\": 9, \"is\": 10, \"amazing\": 11}'}"
            ]
          },
          "metadata": {
            "tags": []
          },
          "execution_count": 50
        }
      ]
    },
    {
      "cell_type": "code",
      "metadata": {
        "id": "WMDMCmJja3XK",
        "colab_type": "code",
        "outputId": "27b2140d-4b21-4ef0-e0f2-c18930831ffa",
        "colab": {
          "base_uri": "https://localhost:8080/",
          "height": 34
        }
      },
      "source": [
        "sequences = tokenizer.texts_to_sequences(sentences)\n",
        "print(sequences)"
      ],
      "execution_count": 0,
      "outputs": [
        {
          "output_type": "stream",
          "text": [
            "[[5, 3, 2, 4], [5, 3, 2, 8], [6, 7, 3, 2, 4], [6, 7, 9, 2, 4, 10, 11]]\n"
          ],
          "name": "stdout"
        }
      ]
    },
    {
      "cell_type": "code",
      "metadata": {
        "id": "Vtbl3xZwDUL1",
        "colab_type": "code",
        "outputId": "6f3ed1a1-2360-47b3-cee5-dec03de3c941",
        "colab": {
          "base_uri": "https://localhost:8080/",
          "height": 34
        }
      },
      "source": [
        "# use of oov_token\n",
        "out_of_vocab = [\"do you fucking love my dog?\", \"I hate your cat\"]\n",
        "out_sequences = tokenizer.texts_to_sequences(out_of_vocab)\n",
        "print(out_sequences)"
      ],
      "execution_count": 0,
      "outputs": [
        {
          "output_type": "stream",
          "text": [
            "[[6, 7, 1, 3, 2, 4], [5, 1, 1, 8]]\n"
          ],
          "name": "stdout"
        }
      ]
    },
    {
      "cell_type": "markdown",
      "metadata": {
        "id": "5MWr0H9_DwJQ",
        "colab_type": "text"
      },
      "source": [
        "Clearly, in place of \"fucking\" and \"hate\" and \"your\", we have token for our oov_token, \"XDX\".."
      ]
    },
    {
      "cell_type": "code",
      "metadata": {
        "id": "ExZ1144ictdT",
        "colab_type": "code",
        "outputId": "bdf2dac0-e7d9-454c-d9a3-2f43a786d388",
        "colab": {
          "base_uri": "https://localhost:8080/",
          "height": 102
        }
      },
      "source": [
        "matrix = tokenizer.sequences_to_matrix(sequences, mode='binary')\n",
        "print(type(matrix))\n",
        "print(matrix)"
      ],
      "execution_count": 0,
      "outputs": [
        {
          "output_type": "stream",
          "text": [
            "<class 'numpy.ndarray'>\n",
            "[[0. 0. 1. 1. 1. 1. 0. 0. 0. 0. 0. 0.]\n",
            " [0. 0. 1. 1. 0. 1. 0. 0. 1. 0. 0. 0.]\n",
            " [0. 0. 1. 1. 1. 0. 1. 1. 0. 0. 0. 0.]\n",
            " [0. 0. 1. 0. 1. 0. 1. 1. 0. 1. 1. 1.]]\n"
          ],
          "name": "stdout"
        }
      ]
    },
    {
      "cell_type": "code",
      "metadata": {
        "id": "_IecTXrpdHZX",
        "colab_type": "code",
        "outputId": "5cabc982-7cc7-487f-a772-0dda25386235",
        "colab": {
          "base_uri": "https://localhost:8080/",
          "height": 85
        }
      },
      "source": [
        "from keras.preprocessing.sequence import pad_sequences\n",
        "\n",
        "padded = pad_sequences(sequences)\n",
        "print(padded)"
      ],
      "execution_count": 0,
      "outputs": [
        {
          "output_type": "stream",
          "text": [
            "[[ 0  0  0  5  3  2  4]\n",
            " [ 0  0  0  5  3  2  8]\n",
            " [ 0  0  6  7  3  2  4]\n",
            " [ 6  7  9  2  4 10 11]]\n"
          ],
          "name": "stdout"
        }
      ]
    },
    {
      "cell_type": "code",
      "metadata": {
        "id": "f7VgHtTBCUJG",
        "colab_type": "code",
        "outputId": "203662d5-88d8-44c9-dc01-626a9cfb85cb",
        "colab": {
          "base_uri": "https://localhost:8080/",
          "height": 85
        }
      },
      "source": [
        "# adding a few more attributes\n",
        "\n",
        "padded_more = pad_sequences(sequences, maxlen=3, padding='post', truncating='post')\n",
        "print(padded_more)"
      ],
      "execution_count": 0,
      "outputs": [
        {
          "output_type": "stream",
          "text": [
            "[[5 3 2]\n",
            " [5 3 2]\n",
            " [6 7 3]\n",
            " [6 7 9]]\n"
          ],
          "name": "stdout"
        }
      ]
    },
    {
      "cell_type": "code",
      "metadata": {
        "id": "VlXRGfZvCfp1",
        "colab_type": "code",
        "outputId": "9fe6166c-6c0e-453b-d229-3f7db6e6d426",
        "colab": {
          "base_uri": "https://localhost:8080/",
          "height": 204
        }
      },
      "source": [
        "!wget --no-check-certificate \\\n",
        "    https://storage.googleapis.com/laurencemoroney-blog.appspot.com/sarcasm.json \\\n",
        "    -O /tmp/sarcasm.json"
      ],
      "execution_count": 0,
      "outputs": [
        {
          "output_type": "stream",
          "text": [
            "--2020-06-08 18:11:57--  https://storage.googleapis.com/laurencemoroney-blog.appspot.com/sarcasm.json\n",
            "Resolving storage.googleapis.com (storage.googleapis.com)... 172.217.203.128, 2607:f8b0:400c:c02::80\n",
            "Connecting to storage.googleapis.com (storage.googleapis.com)|172.217.203.128|:443... connected.\n",
            "HTTP request sent, awaiting response... 200 OK\n",
            "Length: 5643545 (5.4M) [application/json]\n",
            "Saving to: ‘/tmp/sarcasm.json’\n",
            "\n",
            "\r/tmp/sarcasm.json     0%[                    ]       0  --.-KB/s               \r/tmp/sarcasm.json   100%[===================>]   5.38M  --.-KB/s    in 0.03s   \n",
            "\n",
            "2020-06-08 18:11:57 (197 MB/s) - ‘/tmp/sarcasm.json’ saved [5643545/5643545]\n",
            "\n"
          ],
          "name": "stdout"
        }
      ]
    },
    {
      "cell_type": "code",
      "metadata": {
        "id": "-OZ2gZojHAAx",
        "colab_type": "code",
        "colab": {}
      },
      "source": [
        "import pandas as pd\n",
        "import numpy as np"
      ],
      "execution_count": 0,
      "outputs": []
    },
    {
      "cell_type": "code",
      "metadata": {
        "id": "yKOtD3GsHIw1",
        "colab_type": "code",
        "outputId": "1144c76a-134a-4872-d32b-53cf1e9c16fc",
        "colab": {
          "base_uri": "https://localhost:8080/",
          "height": 153
        }
      },
      "source": [
        "df = pd.read_json(\"/tmp/sarcasm.json\")\n",
        "print(df.head())"
      ],
      "execution_count": 0,
      "outputs": [
        {
          "output_type": "stream",
          "text": [
            "                                        article_link  ... is_sarcastic\n",
            "0  https://www.huffingtonpost.com/entry/versace-b...  ...            0\n",
            "1  https://www.huffingtonpost.com/entry/roseanne-...  ...            0\n",
            "2  https://local.theonion.com/mom-starting-to-fea...  ...            1\n",
            "3  https://politics.theonion.com/boehner-just-wan...  ...            1\n",
            "4  https://www.huffingtonpost.com/entry/jk-rowlin...  ...            0\n",
            "\n",
            "[5 rows x 3 columns]\n"
          ],
          "name": "stdout"
        }
      ]
    },
    {
      "cell_type": "code",
      "metadata": {
        "id": "J9jQ7T5iHWrX",
        "colab_type": "code",
        "colab": {}
      },
      "source": [
        "sarcasm_url = df['article_link']\n",
        "sarcasm_article = df['headline']\n",
        "sarcasm_labels = df['is_sarcastic']"
      ],
      "execution_count": 0,
      "outputs": []
    },
    {
      "cell_type": "code",
      "metadata": {
        "id": "f6vA2bOTHdxC",
        "colab_type": "code",
        "colab": {}
      },
      "source": [
        "url = list(sarcasm_url)\n",
        "article = list(sarcasm_article)\n",
        "labels = list(sarcasm_labels)"
      ],
      "execution_count": 0,
      "outputs": []
    },
    {
      "cell_type": "code",
      "metadata": {
        "id": "iWYAux11MWjV",
        "colab_type": "code",
        "outputId": "605dc4da-25c9-41bb-efb7-7d3c69a654bf",
        "colab": {
          "base_uri": "https://localhost:8080/",
          "height": 54
        }
      },
      "source": [
        "print(url[2],article[2], labels[2])"
      ],
      "execution_count": 0,
      "outputs": [
        {
          "output_type": "stream",
          "text": [
            "https://local.theonion.com/mom-starting-to-fear-son-s-web-series-closest-thing-she-1819576697 mom starting to fear son's web series closest thing she will have to grandchild 1\n"
          ],
          "name": "stdout"
        }
      ]
    },
    {
      "cell_type": "code",
      "metadata": {
        "id": "bGQMxQYkH7dy",
        "colab_type": "code",
        "outputId": "1637c59e-0c16-41ff-dfe2-57d4d2eef039",
        "colab": {
          "base_uri": "https://localhost:8080/",
          "height": 34
        }
      },
      "source": [
        "print(len(url), len(article), len(labels))"
      ],
      "execution_count": 0,
      "outputs": [
        {
          "output_type": "stream",
          "text": [
            "26709 26709 26709\n"
          ],
          "name": "stdout"
        }
      ]
    },
    {
      "cell_type": "code",
      "metadata": {
        "id": "r2_yt_Z8JY91",
        "colab_type": "code",
        "outputId": "cc93d410-451d-4c6b-e57f-1f306f970a8a",
        "colab": {
          "base_uri": "https://localhost:8080/",
          "height": 34
        }
      },
      "source": [
        "tokenizer.fit_on_texts(article)\n",
        "sarcasm_word_index = tokenizer.word_index\n",
        "print(len(sarcasm_word_index))"
      ],
      "execution_count": 0,
      "outputs": [
        {
          "output_type": "stream",
          "text": [
            "29657\n"
          ],
          "name": "stdout"
        }
      ]
    },
    {
      "cell_type": "code",
      "metadata": {
        "id": "nCYG_KUIKBTv",
        "colab_type": "code",
        "outputId": "4157a198-4bf8-4be7-854e-91a2c173254d",
        "colab": {
          "base_uri": "https://localhost:8080/",
          "height": 34
        }
      },
      "source": [
        "sarcasm_sequences = tokenizer.texts_to_sequences(article)\n",
        "padded = pad_sequences(sarcasm_sequences)\n",
        "print(padded.shape)"
      ],
      "execution_count": 0,
      "outputs": [
        {
          "output_type": "stream",
          "text": [
            "(26709, 40)\n"
          ],
          "name": "stdout"
        }
      ]
    },
    {
      "cell_type": "code",
      "metadata": {
        "id": "KzD3jBvTKQOk",
        "colab_type": "code",
        "outputId": "beac1426-84ba-400b-8234-12190eb6879d",
        "colab": {
          "base_uri": "https://localhost:8080/",
          "height": 85
        }
      },
      "source": [
        "print(padded[0])"
      ],
      "execution_count": 0,
      "outputs": [
        {
          "output_type": "stream",
          "text": [
            "[    0     0     0     0     0     0     0     0     0     0     0     0\n",
            "     0     0     0     0     0     0     0     0     0     0     0     0\n",
            "     0     0     0     0   308 15115   679  3337  2298    48   382  2576\n",
            " 15116     6  2577  8434]\n"
          ],
          "name": "stdout"
        }
      ]
    },
    {
      "cell_type": "code",
      "metadata": {
        "id": "hkMZFQVeLLNY",
        "colab_type": "code",
        "colab": {}
      },
      "source": [
        ""
      ],
      "execution_count": 0,
      "outputs": []
    }
  ]
}