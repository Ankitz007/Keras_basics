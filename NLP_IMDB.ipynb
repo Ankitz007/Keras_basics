{
  "nbformat": 4,
  "nbformat_minor": 0,
  "metadata": {
    "colab": {
      "name": "NLP_IMDB.ipynb",
      "provenance": [],
      "collapsed_sections": [],
      "authorship_tag": "ABX9TyPWpKJJyYTCH4U8y13H1zFs",
      "include_colab_link": true
    },
    "kernelspec": {
      "name": "python3",
      "display_name": "Python 3"
    },
    "accelerator": "GPU"
  },
  "cells": [
    {
      "cell_type": "markdown",
      "metadata": {
        "id": "view-in-github",
        "colab_type": "text"
      },
      "source": [
        "<a href=\"https://colab.research.google.com/github/Ankitz007/Keras_basics/blob/master/NLP_IMDB.ipynb\" target=\"_parent\"><img src=\"https://colab.research.google.com/assets/colab-badge.svg\" alt=\"Open In Colab\"/></a>"
      ]
    },
    {
      "cell_type": "code",
      "metadata": {
        "id": "H4xaipAkNSiv",
        "colab_type": "code",
        "colab": {}
      },
      "source": [
        "import tensorflow as tf\n",
        "import tensorflow_datasets as tfds"
      ],
      "execution_count": 0,
      "outputs": []
    },
    {
      "cell_type": "code",
      "metadata": {
        "id": "XjSIbq88NsM_",
        "colab_type": "code",
        "colab": {}
      },
      "source": [
        "imdb, info = tfds.load(\"imdb_reviews\", with_info=True, as_supervised=True)"
      ],
      "execution_count": 0,
      "outputs": []
    },
    {
      "cell_type": "code",
      "metadata": {
        "id": "NKAHAec_OZ1K",
        "colab_type": "code",
        "colab": {}
      },
      "source": [
        "import numpy as np"
      ],
      "execution_count": 0,
      "outputs": []
    },
    {
      "cell_type": "code",
      "metadata": {
        "id": "Z3FX7fiROuip",
        "colab_type": "code",
        "colab": {}
      },
      "source": [
        "train_data, test_data = imdb['train'], imdb['test']"
      ],
      "execution_count": 0,
      "outputs": []
    },
    {
      "cell_type": "code",
      "metadata": {
        "id": "wHNSKCHMPUb1",
        "colab_type": "code",
        "colab": {}
      },
      "source": [
        "training_sentences = []\n",
        "training_labels = []\n",
        "\n",
        "testing_sentences = []\n",
        "testing_labels = []"
      ],
      "execution_count": 0,
      "outputs": []
    },
    {
      "cell_type": "code",
      "metadata": {
        "id": "5AXwB7pAPas-",
        "colab_type": "code",
        "colab": {}
      },
      "source": [
        "for s,l in train_data:\n",
        "    training_sentences.append(str(s.numpy()))\n",
        "    training_labels.append(l.numpy())\n",
        "\n",
        "for s,l in test_data:\n",
        "    testing_sentences.append(str(s.numpy()))\n",
        "    testing_labels.append(l.numpy())"
      ],
      "execution_count": 0,
      "outputs": []
    },
    {
      "cell_type": "code",
      "metadata": {
        "id": "9yd4duS1oid9",
        "colab_type": "code",
        "outputId": "e32aa996-41aa-4468-a2a9-b1dd6429826c",
        "colab": {
          "base_uri": "https://localhost:8080/",
          "height": 34
        }
      },
      "source": [
        "from keras import Sequential"
      ],
      "execution_count": 0,
      "outputs": [
        {
          "output_type": "stream",
          "text": [
            "Using TensorFlow backend.\n"
          ],
          "name": "stderr"
        }
      ]
    },
    {
      "cell_type": "code",
      "metadata": {
        "id": "4UBrc7S9KUR4",
        "colab_type": "code",
        "outputId": "a5a6f769-144d-43fd-f947-ba8bea4a23d3",
        "colab": {
          "base_uri": "https://localhost:8080/",
          "height": 34
        }
      },
      "source": [
        "type(training_labels[0])"
      ],
      "execution_count": 0,
      "outputs": [
        {
          "output_type": "execute_result",
          "data": {
            "text/plain": [
              "numpy.int64"
            ]
          },
          "metadata": {
            "tags": []
          },
          "execution_count": 8
        }
      ]
    },
    {
      "cell_type": "code",
      "metadata": {
        "id": "qersrsPnQDW6",
        "colab_type": "code",
        "colab": {}
      },
      "source": [
        "training_labels_final = np.array(training_labels)\n",
        "testing_labels_final = np.array(testing_labels)"
      ],
      "execution_count": 0,
      "outputs": []
    },
    {
      "cell_type": "code",
      "metadata": {
        "id": "sCsIghMrQVrM",
        "colab_type": "code",
        "colab": {}
      },
      "source": [
        "import keras\n",
        "from keras.preprocessing.text import Tokenizer\n",
        "from keras.preprocessing.sequence import pad_sequences\n",
        "\n",
        "# setting the parameters\n",
        "vocab_size = 10000\n",
        "max_length = 120\n",
        "embedding_dim = 16\n",
        "oov_tok = \"XDX\"\n",
        "\n",
        "tokenizer = Tokenizer(num_words = vocab_size, oov_token = oov_tok)\n",
        "tokenizer.fit_on_texts(training_sentences)\n",
        "word_index = tokenizer.word_index\n",
        "sequences = tokenizer.texts_to_sequences(training_sentences)\n",
        "padded = pad_sequences(sequences, maxlen=max_length, truncating='post', padding='post')\n",
        "\n",
        "testing_sequences = tokenizer.texts_to_sequences(testing_sentences)\n",
        "testing_padded = pad_sequences(testing_sequences, maxlen=max_length)"
      ],
      "execution_count": 0,
      "outputs": []
    },
    {
      "cell_type": "code",
      "metadata": {
        "id": "arCOavfzqXUI",
        "colab_type": "code",
        "outputId": "445da67b-6080-4404-c0a9-955d0689c650",
        "colab": {
          "base_uri": "https://localhost:8080/",
          "height": 71
        }
      },
      "source": [
        "len(word_index)\n",
        "reverse_word_index = dict([(value, key) for (key, value) in word_index.items()])\n",
        "def decode_review(text):\n",
        "    return \" \".join([reverse_word_index.get(i, \"?\") for i in text])\n",
        "\n",
        "print(decode_review(padded[3]))\n",
        "print(training_sentences[3])"
      ],
      "execution_count": 0,
      "outputs": [
        {
          "output_type": "stream",
          "text": [
            "b'this is the kind of film for a snowy sunday afternoon when the rest of the world can go ahead with its own business as you XDX into a big arm chair and XDX for a couple of hours wonderful performances from cher and nicolas cage as always gently row the plot along there are no XDX to cross no dangerous waters just a warm and witty XDX through new york life at its best a family film in every sense and one that deserves the praise it received ' ? ? ? ? ? ? ? ? ? ? ? ? ? ? ? ? ? ? ? ? ? ? ? ? ? ? ? ? ? ?\n",
            "b'This is the kind of film for a snowy Sunday afternoon when the rest of the world can go ahead with its own business as you descend into a big arm-chair and mellow for a couple of hours. Wonderful performances from Cher and Nicolas Cage (as always) gently row the plot along. There are no rapids to cross, no dangerous waters, just a warm and witty paddle through New York life at its best. A family film in every sense and one that deserves the praise it received.'\n"
          ],
          "name": "stdout"
        }
      ]
    },
    {
      "cell_type": "code",
      "metadata": {
        "id": "xCc2-_b5Uynw",
        "colab_type": "code",
        "outputId": "e92af9ee-3878-4aeb-9645-9e7689905342",
        "colab": {
          "base_uri": "https://localhost:8080/",
          "height": 289
        }
      },
      "source": [
        "# look out for the embedding and globalaveragepooling1d layer\n",
        "model = keras.Sequential([\n",
        "                          keras.layers.Embedding(vocab_size, embedding_dim, input_length=max_length),\n",
        "                          keras.layers.GlobalAveragePooling1D(),\n",
        "                          keras.layers.Dense(10, activation='relu'),\n",
        "                          keras.layers.Dense(1, activation='sigmoid')\n",
        "])\n",
        "model.summary()"
      ],
      "execution_count": 0,
      "outputs": [
        {
          "output_type": "stream",
          "text": [
            "Model: \"sequential_1\"\n",
            "_________________________________________________________________\n",
            "Layer (type)                 Output Shape              Param #   \n",
            "=================================================================\n",
            "embedding_1 (Embedding)      (None, 120, 16)           160000    \n",
            "_________________________________________________________________\n",
            "global_average_pooling1d_1 ( (None, 16)                0         \n",
            "_________________________________________________________________\n",
            "dense_1 (Dense)              (None, 10)                170       \n",
            "_________________________________________________________________\n",
            "dense_2 (Dense)              (None, 1)                 11        \n",
            "=================================================================\n",
            "Total params: 160,181\n",
            "Trainable params: 160,181\n",
            "Non-trainable params: 0\n",
            "_________________________________________________________________\n"
          ],
          "name": "stdout"
        }
      ]
    },
    {
      "cell_type": "code",
      "metadata": {
        "id": "k_nk9Pe3Ye3z",
        "colab_type": "code",
        "outputId": "622de2da-04ac-4187-a7d3-5fb9a59ea248",
        "colab": {
          "base_uri": "https://localhost:8080/",
          "height": 411
        }
      },
      "source": [
        "model.compile(optimizer=tf.optimizers.Adam(), loss='binary_crossentropy', metrics=['accuracy'])\n",
        "model.fit(padded, training_labels_final,epochs=10,validation_data=(testing_padded, testing_labels_final), verbose=1)"
      ],
      "execution_count": 0,
      "outputs": [
        {
          "output_type": "stream",
          "text": [
            "Train on 25001 samples, validate on 50000 samples\n",
            "Epoch 1/10\n",
            "25001/25001 [==============================] - 6s 227us/step - loss: 0.5521 - accuracy: 0.7265 - val_loss: 0.3853 - val_accuracy: 0.8409\n",
            "Epoch 2/10\n",
            "25001/25001 [==============================] - 4s 158us/step - loss: 0.3270 - accuracy: 0.8652 - val_loss: 0.3315 - val_accuracy: 0.8575\n",
            "Epoch 3/10\n",
            "25001/25001 [==============================] - 4s 157us/step - loss: 0.2654 - accuracy: 0.8932 - val_loss: 0.3335 - val_accuracy: 0.8569\n",
            "Epoch 4/10\n",
            "25001/25001 [==============================] - 4s 156us/step - loss: 0.2303 - accuracy: 0.9125 - val_loss: 0.3564 - val_accuracy: 0.8478\n",
            "Epoch 5/10\n",
            "25001/25001 [==============================] - 4s 158us/step - loss: 0.2041 - accuracy: 0.9242 - val_loss: 0.3772 - val_accuracy: 0.8444\n",
            "Epoch 6/10\n",
            "25001/25001 [==============================] - 4s 158us/step - loss: 0.1837 - accuracy: 0.9327 - val_loss: 0.4038 - val_accuracy: 0.8404\n",
            "Epoch 7/10\n",
            "25001/25001 [==============================] - 4s 159us/step - loss: 0.1665 - accuracy: 0.9410 - val_loss: 0.4342 - val_accuracy: 0.8353\n",
            "Epoch 8/10\n",
            "25001/25001 [==============================] - 4s 158us/step - loss: 0.1517 - accuracy: 0.9479 - val_loss: 0.4695 - val_accuracy: 0.8285\n",
            "Epoch 9/10\n",
            "25001/25001 [==============================] - 4s 159us/step - loss: 0.1383 - accuracy: 0.9542 - val_loss: 0.5043 - val_accuracy: 0.8252\n",
            "Epoch 10/10\n",
            "25001/25001 [==============================] - 4s 158us/step - loss: 0.1265 - accuracy: 0.9580 - val_loss: 0.5443 - val_accuracy: 0.8202\n"
          ],
          "name": "stdout"
        },
        {
          "output_type": "execute_result",
          "data": {
            "text/plain": [
              "<keras.callbacks.callbacks.History at 0x7fb4cd1a9a58>"
            ]
          },
          "metadata": {
            "tags": []
          },
          "execution_count": 13
        }
      ]
    },
    {
      "cell_type": "code",
      "metadata": {
        "id": "fHyR-CPBbQyE",
        "colab_type": "code",
        "outputId": "961c76b2-6574-43ed-d8db-0081162cbc95",
        "colab": {
          "base_uri": "https://localhost:8080/",
          "height": 51
        }
      },
      "source": [
        "model.evaluate(testing_padded,testing_labels_final)"
      ],
      "execution_count": 0,
      "outputs": [
        {
          "output_type": "stream",
          "text": [
            "50000/50000 [==============================] - 2s 35us/step\n"
          ],
          "name": "stdout"
        },
        {
          "output_type": "execute_result",
          "data": {
            "text/plain": [
              "[0.5443006337738037, 0.8202000260353088]"
            ]
          },
          "metadata": {
            "tags": []
          },
          "execution_count": 14
        }
      ]
    },
    {
      "cell_type": "code",
      "metadata": {
        "id": "nKttKdmEkHPd",
        "colab_type": "code",
        "outputId": "6daa9539-8783-4376-e767-1e81b5eb227b",
        "colab": {
          "base_uri": "https://localhost:8080/",
          "height": 34
        }
      },
      "source": [
        "e = model.layers[0]\n",
        "weights = e.get_weights()[0]\n",
        "print(weights.shape) # shape: (vocab_size, embedding_dim)"
      ],
      "execution_count": 0,
      "outputs": [
        {
          "output_type": "stream",
          "text": [
            "(10000, 16)\n"
          ],
          "name": "stdout"
        }
      ]
    },
    {
      "cell_type": "code",
      "metadata": {
        "id": "02-ywetclqDf",
        "colab_type": "code",
        "outputId": "15ac1d81-27f8-44f3-fe9b-631f3550174c",
        "colab": {
          "base_uri": "https://localhost:8080/",
          "height": 34
        }
      },
      "source": [
        "sentence = \"I fucking think this is amazing sculpture. honest.\"\n",
        "sequence = tokenizer.texts_to_sequences([sentence])\n",
        "print(sequence)"
      ],
      "execution_count": 0,
      "outputs": [
        {
          "output_type": "stream",
          "text": [
            "[[11, 1, 105, 12, 7, 491, 1216]]\n"
          ],
          "name": "stdout"
        }
      ]
    },
    {
      "cell_type": "markdown",
      "metadata": {
        "id": "zCl1QGZWaW9p",
        "colab_type": "text"
      },
      "source": [
        "# **For visualization purpose only**\n"
      ]
    },
    {
      "cell_type": "code",
      "metadata": {
        "id": "pJ67lJ-scR-8",
        "colab_type": "code",
        "colab": {}
      },
      "source": [
        "import io\n",
        "reverse_word_index = dict([(value, key) for (key, value) in word_index.items()])\n",
        "out_v = io.open('vecs.tsv', 'w', encoding='utf-8')\n",
        "out_m = io.open('meta.tsv', 'w', encoding='utf-8')\n",
        "for word_num in range(1, vocab_size):\n",
        "  word = reverse_word_index[word_num]\n",
        "  embeddings = weights[word_num]\n",
        "  out_m.write(word + \"\\n\")\n",
        "  out_v.write('\\t'.join([str(x) for x in embeddings]) + \"\\n\")\n",
        "out_v.close()\n",
        "out_m.close()"
      ],
      "execution_count": 0,
      "outputs": []
    },
    {
      "cell_type": "code",
      "metadata": {
        "id": "yWJ9OCCFjxhW",
        "colab_type": "code",
        "colab": {}
      },
      "source": [
        "try:\n",
        "  from google.colab import files\n",
        "except ImportError:\n",
        "  pass\n",
        "else:\n",
        "  files.download('vecs.tsv')\n",
        "  files.download('meta.tsv')"
      ],
      "execution_count": 0,
      "outputs": []
    }
  ]
}