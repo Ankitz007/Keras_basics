{
  "nbformat": 4,
  "nbformat_minor": 0,
  "metadata": {
    "colab": {
      "name": "CatsAndDogs_SmallDataset_Augmentation.ipynb",
      "provenance": [],
      "collapsed_sections": [],
      "authorship_tag": "ABX9TyN6E/pLBWYtpzH7cu1FADrx"
    },
    "kernelspec": {
      "name": "python3",
      "display_name": "Python 3"
    },
    "accelerator": "GPU"
  },
  "cells": [
    {
      "cell_type": "code",
      "metadata": {
        "id": "lY80Tps9d0qW",
        "colab_type": "code",
        "outputId": "62073339-ef3d-4fcc-d1f9-d5aa5fd8cfd7",
        "colab": {
          "base_uri": "https://localhost:8080/",
          "height": 34
        }
      },
      "source": [
        "import tensorflow as tf\n",
        "import keras"
      ],
      "execution_count": 0,
      "outputs": [
        {
          "output_type": "stream",
          "text": [
            "Using TensorFlow backend.\n"
          ],
          "name": "stderr"
        }
      ]
    },
    {
      "cell_type": "code",
      "metadata": {
        "id": "7NJA-lLt-uen",
        "colab_type": "code",
        "outputId": "103250d0-0e4f-4aab-963d-9703079863b0",
        "colab": {
          "base_uri": "https://localhost:8080/",
          "height": 204
        }
      },
      "source": [
        "!wget --no-check-certificate \\\n",
        "  https://storage.googleapis.com/mledu-datasets/cats_and_dogs_filtered.zip \\\n",
        "  -O /tmp/cats_and_dogs_filtered.zip"
      ],
      "execution_count": 0,
      "outputs": [
        {
          "output_type": "stream",
          "text": [
            "--2020-05-29 10:00:32--  https://storage.googleapis.com/mledu-datasets/cats_and_dogs_filtered.zip\n",
            "Resolving storage.googleapis.com (storage.googleapis.com)... 108.177.126.128, 2a00:1450:4013:c01::80\n",
            "Connecting to storage.googleapis.com (storage.googleapis.com)|108.177.126.128|:443... connected.\n",
            "HTTP request sent, awaiting response... 200 OK\n",
            "Length: 68606236 (65M) [application/zip]\n",
            "Saving to: ‘/tmp/cats_and_dogs_filtered.zip’\n",
            "\n",
            "\r          /tmp/cats   0%[                    ]       0  --.-KB/s               \r         /tmp/cats_  41%[=======>            ]  27.30M   137MB/s               \r/tmp/cats_and_dogs_ 100%[===================>]  65.43M   226MB/s    in 0.3s    \n",
            "\n",
            "2020-05-29 10:00:32 (226 MB/s) - ‘/tmp/cats_and_dogs_filtered.zip’ saved [68606236/68606236]\n",
            "\n"
          ],
          "name": "stdout"
        }
      ]
    },
    {
      "cell_type": "code",
      "metadata": {
        "id": "7r5jpz4T-wjq",
        "colab_type": "code",
        "colab": {}
      },
      "source": [
        "import os\n",
        "import zipfile"
      ],
      "execution_count": 0,
      "outputs": []
    },
    {
      "cell_type": "code",
      "metadata": {
        "id": "_4f3_dyJ-_ZK",
        "colab_type": "code",
        "colab": {}
      },
      "source": [
        "local_zip = '/tmp/cats_and_dogs_filtered.zip'\n",
        "zip_ref = zipfile.ZipFile(local_zip, 'r')\n",
        "zip_ref.extractall('/tmp')\n",
        "zip_ref.close()"
      ],
      "execution_count": 0,
      "outputs": []
    },
    {
      "cell_type": "code",
      "metadata": {
        "id": "jwhDSORZ_iza",
        "colab_type": "code",
        "colab": {}
      },
      "source": [
        "\n",
        "train_dir = os.path.join('/tmp/cats_and_dogs_filtered/train')\n",
        "validation_dir = os.path.join('/tmp/cats_and_dogs_filtered/validation')\n",
        "\n",
        "train_cats = os.path.join('/tmp/cats_and_dogs_filtered/train/cats')\n",
        "train_dogs = os.path.join('/tmp/cats_and_dogs_filtered/train/dogs')\n",
        "\n",
        "test_cats = os.path.join('/tmp/cats_and_dogs_filtered/validation/cats')\n",
        "test_dogs = os.path.join('/tmp/cats_and_dogs_filtered/validation/dogs')"
      ],
      "execution_count": 0,
      "outputs": []
    },
    {
      "cell_type": "code",
      "metadata": {
        "id": "qS3qhNF1AFvq",
        "colab_type": "code",
        "outputId": "3d790432-f5f6-4289-e5b3-05dc9b42cb02",
        "colab": {
          "base_uri": "https://localhost:8080/",
          "height": 85
        }
      },
      "source": [
        "\n",
        "print('Total training cats: '+str(len(os.listdir('/tmp/cats_and_dogs_filtered/train/cats'))))\n",
        "print('Total training dogs: '+str(len(os.listdir('/tmp/cats_and_dogs_filtered/train/dogs'))))\n",
        "print('Total validation cats: '+str(len(os.listdir('/tmp/cats_and_dogs_filtered/validation/cats'))))\n",
        "print('Total validation dogs: '+str(len(os.listdir('/tmp/cats_and_dogs_filtered/validation/dogs'))))"
      ],
      "execution_count": 0,
      "outputs": [
        {
          "output_type": "stream",
          "text": [
            "Total training cats: 1000\n",
            "Total training dogs: 1000\n",
            "Total validation cats: 500\n",
            "Total validation dogs: 500\n"
          ],
          "name": "stdout"
        }
      ]
    },
    {
      "cell_type": "code",
      "metadata": {
        "id": "Iu8QjQkOAUO3",
        "colab_type": "code",
        "outputId": "fc19fa1d-3105-44ac-dc86-d199487f6a8a",
        "colab": {
          "base_uri": "https://localhost:8080/",
          "height": 459
        }
      },
      "source": [
        "from tensorflow.keras import regularizers\n",
        "\n",
        "model = keras.models.Sequential([\n",
        "                                 keras.layers.Conv2D(16,(3,3),activation='relu',input_shape=(150,150,3)),\n",
        "                                 keras.layers.MaxPooling2D(2,2),\n",
        "                                 keras.layers.Conv2D(32, (3,3), activation='relu'),\n",
        "                                 keras.layers.MaxPooling2D(2,2), \n",
        "                                 keras.layers.Conv2D(64, (3,3), activation='relu'), \n",
        "                                 keras.layers.MaxPooling2D(2,2),\n",
        "                                 # Flatten the results to feed into a DNN\n",
        "                                 keras.layers.Flatten(), \n",
        "                                 # 512 neuron hidden layer\n",
        "                                 keras.layers.Dense(512, activation='relu'), \n",
        "                                 # Only 1 output neuron. It will contain a value from 0-1 where 0 for 1 class ('cats') and 1 for the other ('dogs')\n",
        "                                 keras.layers.Dense(1, activation='sigmoid')\n",
        "])\n",
        "model.summary()"
      ],
      "execution_count": 0,
      "outputs": [
        {
          "output_type": "stream",
          "text": [
            "Model: \"sequential_2\"\n",
            "_________________________________________________________________\n",
            "Layer (type)                 Output Shape              Param #   \n",
            "=================================================================\n",
            "conv2d_4 (Conv2D)            (None, 148, 148, 16)      448       \n",
            "_________________________________________________________________\n",
            "max_pooling2d_4 (MaxPooling2 (None, 74, 74, 16)        0         \n",
            "_________________________________________________________________\n",
            "conv2d_5 (Conv2D)            (None, 72, 72, 32)        4640      \n",
            "_________________________________________________________________\n",
            "max_pooling2d_5 (MaxPooling2 (None, 36, 36, 32)        0         \n",
            "_________________________________________________________________\n",
            "conv2d_6 (Conv2D)            (None, 34, 34, 64)        18496     \n",
            "_________________________________________________________________\n",
            "max_pooling2d_6 (MaxPooling2 (None, 17, 17, 64)        0         \n",
            "_________________________________________________________________\n",
            "flatten_2 (Flatten)          (None, 18496)             0         \n",
            "_________________________________________________________________\n",
            "dense_3 (Dense)              (None, 512)               9470464   \n",
            "_________________________________________________________________\n",
            "dense_4 (Dense)              (None, 1)                 513       \n",
            "=================================================================\n",
            "Total params: 9,494,561\n",
            "Trainable params: 9,494,561\n",
            "Non-trainable params: 0\n",
            "_________________________________________________________________\n"
          ],
          "name": "stdout"
        }
      ]
    },
    {
      "cell_type": "code",
      "metadata": {
        "id": "-HYuXDiJC-Pf",
        "colab_type": "code",
        "outputId": "2b6771c3-31a0-4039-8b25-5829e431d7b9",
        "colab": {
          "base_uri": "https://localhost:8080/",
          "height": 51
        }
      },
      "source": [
        "from keras.preprocessing.image import ImageDataGenerator\n",
        "\n",
        "# All images will be rescaled by 1./255.\n",
        "train_datagen = ImageDataGenerator( rescale = 1.0/255.,\n",
        "                                   rotation_range = 40,\n",
        "                                   width_shift_range = 0.2,\n",
        "                                   height_shift_range = 0.2,\n",
        "                                   shear_range = 0.2,\n",
        "                                   zoom_range = 0.2,\n",
        "                                   horizontal_flip = True,\n",
        "                                   fill_mode = 'nearest')\n",
        "test_datagen  = ImageDataGenerator( rescale = 1.0/255. )\n",
        "\n",
        "# --------------------\n",
        "# Flow training images in batches of 20 using train_datagen generator\n",
        "# --------------------\n",
        "train_generator = train_datagen.flow_from_directory(train_dir,\n",
        "                                                    batch_size=20,\n",
        "                                                    class_mode='binary',\n",
        "                                                    target_size=(150, 150))     \n",
        "# --------------------\n",
        "# Flow validation images in batches of 20 using test_datagen generator\n",
        "# --------------------\n",
        "validation_generator =  test_datagen.flow_from_directory(validation_dir,\n",
        "                                                         batch_size=20,\n",
        "                                                         class_mode  = 'binary',\n",
        "                                                         target_size = (150, 150))"
      ],
      "execution_count": 0,
      "outputs": [
        {
          "output_type": "stream",
          "text": [
            "Found 2000 images belonging to 2 classes.\n",
            "Found 1000 images belonging to 2 classes.\n"
          ],
          "name": "stdout"
        }
      ]
    },
    {
      "cell_type": "code",
      "metadata": {
        "id": "DF97_ROyDG00",
        "colab_type": "code",
        "colab": {}
      },
      "source": [
        "from tensorflow.keras.optimizers import Adam\n",
        "\n",
        "model.compile(loss='binary_crossentropy',\n",
        "              optimizer = 'Adam',\n",
        "              metrics = ['acc']\n",
        "              )"
      ],
      "execution_count": 0,
      "outputs": []
    },
    {
      "cell_type": "code",
      "metadata": {
        "id": "2a5SvmwmEEjb",
        "colab_type": "code",
        "outputId": "4428e075-47a1-461c-d894-7a9f16313322",
        "colab": {
          "base_uri": "https://localhost:8080/",
          "height": 1000
        }
      },
      "source": [
        "history = model.fit_generator(\n",
        "    train_generator,\n",
        "    epochs = 10,\n",
        "    validation_data = validation_generator,\n",
        "    verbose = 1\n",
        ")"
      ],
      "execution_count": 0,
      "outputs": [
        {
          "output_type": "stream",
          "text": [
            "Epoch 1/100\n",
            "100/100 [==============================] - 21s 209ms/step - loss: 0.5885 - acc: 0.6925 - val_loss: 0.5092 - val_acc: 0.7280\n",
            "Epoch 2/100\n",
            "100/100 [==============================] - 19s 192ms/step - loss: 0.5629 - acc: 0.7160 - val_loss: 0.7875 - val_acc: 0.7280\n",
            "Epoch 3/100\n",
            "100/100 [==============================] - 19s 188ms/step - loss: 0.5536 - acc: 0.7065 - val_loss: 0.7587 - val_acc: 0.7030\n",
            "Epoch 4/100\n",
            "100/100 [==============================] - 19s 190ms/step - loss: 0.5500 - acc: 0.7260 - val_loss: 0.4756 - val_acc: 0.6890\n",
            "Epoch 5/100\n",
            "100/100 [==============================] - 19s 187ms/step - loss: 0.5324 - acc: 0.7320 - val_loss: 0.4034 - val_acc: 0.7300\n",
            "Epoch 6/100\n",
            "100/100 [==============================] - 19s 187ms/step - loss: 0.5393 - acc: 0.7165 - val_loss: 0.6706 - val_acc: 0.7330\n",
            "Epoch 7/100\n",
            "100/100 [==============================] - 19s 190ms/step - loss: 0.5319 - acc: 0.7300 - val_loss: 0.5264 - val_acc: 0.7380\n",
            "Epoch 8/100\n",
            "100/100 [==============================] - 19s 188ms/step - loss: 0.5220 - acc: 0.7480 - val_loss: 0.2557 - val_acc: 0.7410\n",
            "Epoch 9/100\n",
            "100/100 [==============================] - 19s 188ms/step - loss: 0.5212 - acc: 0.7415 - val_loss: 0.5604 - val_acc: 0.7550\n",
            "Epoch 10/100\n",
            "100/100 [==============================] - 19s 187ms/step - loss: 0.5466 - acc: 0.7170 - val_loss: 0.3757 - val_acc: 0.7340\n",
            "Epoch 11/100\n",
            "100/100 [==============================] - 19s 187ms/step - loss: 0.5126 - acc: 0.7480 - val_loss: 0.4086 - val_acc: 0.7340\n",
            "Epoch 12/100\n",
            "100/100 [==============================] - 19s 187ms/step - loss: 0.5075 - acc: 0.7510 - val_loss: 0.3601 - val_acc: 0.7630\n",
            "Epoch 13/100\n",
            "100/100 [==============================] - 19s 187ms/step - loss: 0.5129 - acc: 0.7460 - val_loss: 0.5062 - val_acc: 0.7520\n",
            "Epoch 14/100\n",
            "100/100 [==============================] - 19s 187ms/step - loss: 0.5254 - acc: 0.7470 - val_loss: 0.5387 - val_acc: 0.7670\n",
            "Epoch 15/100\n",
            "100/100 [==============================] - 19s 186ms/step - loss: 0.4906 - acc: 0.7645 - val_loss: 0.7410 - val_acc: 0.7490\n",
            "Epoch 16/100\n",
            "100/100 [==============================] - 19s 186ms/step - loss: 0.5141 - acc: 0.7480 - val_loss: 0.6154 - val_acc: 0.7610\n",
            "Epoch 17/100\n",
            "100/100 [==============================] - 19s 186ms/step - loss: 0.5015 - acc: 0.7575 - val_loss: 0.4032 - val_acc: 0.7570\n",
            "Epoch 18/100\n",
            "100/100 [==============================] - 19s 185ms/step - loss: 0.5130 - acc: 0.7455 - val_loss: 0.6569 - val_acc: 0.7750\n",
            "Epoch 19/100\n",
            "100/100 [==============================] - 19s 185ms/step - loss: 0.5021 - acc: 0.7525 - val_loss: 0.6023 - val_acc: 0.7560\n",
            "Epoch 20/100\n",
            "100/100 [==============================] - 19s 185ms/step - loss: 0.4915 - acc: 0.7565 - val_loss: 0.4842 - val_acc: 0.7620\n",
            "Epoch 21/100\n",
            "100/100 [==============================] - 19s 185ms/step - loss: 0.4782 - acc: 0.7810 - val_loss: 0.4346 - val_acc: 0.7630\n",
            "Epoch 22/100\n",
            "100/100 [==============================] - 19s 187ms/step - loss: 0.4828 - acc: 0.7645 - val_loss: 0.6277 - val_acc: 0.7030\n",
            "Epoch 23/100\n",
            "100/100 [==============================] - 19s 186ms/step - loss: 0.4932 - acc: 0.7625 - val_loss: 0.7574 - val_acc: 0.7410\n",
            "Epoch 24/100\n",
            "100/100 [==============================] - 19s 186ms/step - loss: 0.4755 - acc: 0.7720 - val_loss: 0.5331 - val_acc: 0.7520\n",
            "Epoch 25/100\n",
            "100/100 [==============================] - 18s 183ms/step - loss: 0.4517 - acc: 0.7820 - val_loss: 0.5186 - val_acc: 0.7820\n",
            "Epoch 26/100\n",
            "100/100 [==============================] - 18s 184ms/step - loss: 0.4829 - acc: 0.7630 - val_loss: 0.4602 - val_acc: 0.7700\n",
            "Epoch 27/100\n",
            "100/100 [==============================] - 19s 187ms/step - loss: 0.4695 - acc: 0.7815 - val_loss: 0.9727 - val_acc: 0.7610\n",
            "Epoch 28/100\n",
            "100/100 [==============================] - 19s 185ms/step - loss: 0.4785 - acc: 0.7725 - val_loss: 0.5611 - val_acc: 0.7430\n",
            "Epoch 29/100\n",
            "100/100 [==============================] - 18s 184ms/step - loss: 0.4591 - acc: 0.7835 - val_loss: 0.5569 - val_acc: 0.7640\n",
            "Epoch 30/100\n",
            "100/100 [==============================] - 18s 184ms/step - loss: 0.4751 - acc: 0.7705 - val_loss: 0.3842 - val_acc: 0.7680\n",
            "Epoch 31/100\n",
            "100/100 [==============================] - 18s 182ms/step - loss: 0.4363 - acc: 0.8025 - val_loss: 0.6922 - val_acc: 0.7510\n",
            "Epoch 32/100\n",
            "100/100 [==============================] - 19s 186ms/step - loss: 0.4728 - acc: 0.7710 - val_loss: 0.5352 - val_acc: 0.7620\n",
            "Epoch 33/100\n",
            "100/100 [==============================] - 18s 185ms/step - loss: 0.4589 - acc: 0.7745 - val_loss: 0.3295 - val_acc: 0.7690\n",
            "Epoch 34/100\n",
            "100/100 [==============================] - 18s 184ms/step - loss: 0.4358 - acc: 0.7955 - val_loss: 0.4547 - val_acc: 0.7620\n",
            "Epoch 35/100\n",
            "100/100 [==============================] - 18s 184ms/step - loss: 0.4373 - acc: 0.7925 - val_loss: 0.8501 - val_acc: 0.7770\n",
            "Epoch 36/100\n",
            "100/100 [==============================] - 18s 182ms/step - loss: 0.4499 - acc: 0.7970 - val_loss: 0.5533 - val_acc: 0.7710\n",
            "Epoch 37/100\n",
            "100/100 [==============================] - 19s 187ms/step - loss: 0.4389 - acc: 0.7855 - val_loss: 0.7876 - val_acc: 0.7660\n",
            "Epoch 38/100\n",
            "100/100 [==============================] - 18s 183ms/step - loss: 0.4430 - acc: 0.7850 - val_loss: 0.4086 - val_acc: 0.7610\n",
            "Epoch 39/100\n",
            "100/100 [==============================] - 18s 183ms/step - loss: 0.4221 - acc: 0.8095 - val_loss: 0.2458 - val_acc: 0.7440\n",
            "Epoch 40/100\n",
            "100/100 [==============================] - 19s 186ms/step - loss: 0.4582 - acc: 0.7895 - val_loss: 0.4611 - val_acc: 0.7560\n",
            "Epoch 41/100\n",
            "100/100 [==============================] - 18s 179ms/step - loss: 0.4444 - acc: 0.7820 - val_loss: 0.5822 - val_acc: 0.7470\n",
            "Epoch 42/100\n",
            "100/100 [==============================] - 18s 181ms/step - loss: 0.4363 - acc: 0.8005 - val_loss: 0.4702 - val_acc: 0.7880\n",
            "Epoch 43/100\n",
            "100/100 [==============================] - 18s 179ms/step - loss: 0.4264 - acc: 0.7965 - val_loss: 0.1837 - val_acc: 0.7630\n",
            "Epoch 44/100\n",
            "100/100 [==============================] - 18s 179ms/step - loss: 0.4357 - acc: 0.8065 - val_loss: 0.3257 - val_acc: 0.7800\n",
            "Epoch 45/100\n",
            "100/100 [==============================] - 18s 179ms/step - loss: 0.4248 - acc: 0.7935 - val_loss: 0.4150 - val_acc: 0.7540\n",
            "Epoch 46/100\n",
            "100/100 [==============================] - 18s 178ms/step - loss: 0.4216 - acc: 0.8070 - val_loss: 0.6053 - val_acc: 0.7780\n",
            "Epoch 47/100\n",
            "100/100 [==============================] - 18s 180ms/step - loss: 0.4021 - acc: 0.8075 - val_loss: 0.7002 - val_acc: 0.7800\n",
            "Epoch 48/100\n",
            "100/100 [==============================] - 18s 178ms/step - loss: 0.3999 - acc: 0.8250 - val_loss: 0.5973 - val_acc: 0.7660\n",
            "Epoch 49/100\n",
            "100/100 [==============================] - 18s 178ms/step - loss: 0.4325 - acc: 0.8005 - val_loss: 0.3712 - val_acc: 0.7860\n",
            "Epoch 50/100\n",
            "100/100 [==============================] - 18s 178ms/step - loss: 0.4039 - acc: 0.8145 - val_loss: 0.4864 - val_acc: 0.7730\n",
            "Epoch 51/100\n",
            "100/100 [==============================] - 18s 177ms/step - loss: 0.3965 - acc: 0.8230 - val_loss: 0.3423 - val_acc: 0.7770\n",
            "Epoch 52/100\n",
            "100/100 [==============================] - 18s 182ms/step - loss: 0.4238 - acc: 0.8020 - val_loss: 0.5090 - val_acc: 0.7730\n",
            "Epoch 53/100\n",
            "100/100 [==============================] - 18s 184ms/step - loss: 0.3996 - acc: 0.8100 - val_loss: 0.4713 - val_acc: 0.7810\n",
            "Epoch 54/100\n",
            "100/100 [==============================] - 19s 187ms/step - loss: 0.4044 - acc: 0.8190 - val_loss: 0.2124 - val_acc: 0.7910\n",
            "Epoch 55/100\n",
            "100/100 [==============================] - 19s 188ms/step - loss: 0.4060 - acc: 0.8110 - val_loss: 0.3762 - val_acc: 0.7950\n",
            "Epoch 56/100\n",
            "100/100 [==============================] - 19s 186ms/step - loss: 0.4055 - acc: 0.8185 - val_loss: 0.4514 - val_acc: 0.7840\n",
            "Epoch 57/100\n",
            "100/100 [==============================] - 19s 187ms/step - loss: 0.4011 - acc: 0.8105 - val_loss: 0.3865 - val_acc: 0.7820\n",
            "Epoch 58/100\n",
            "100/100 [==============================] - 18s 181ms/step - loss: 0.3916 - acc: 0.8215 - val_loss: 0.4547 - val_acc: 0.7820\n",
            "Epoch 59/100\n",
            "100/100 [==============================] - 18s 182ms/step - loss: 0.4023 - acc: 0.8150 - val_loss: 0.9321 - val_acc: 0.7830\n",
            "Epoch 60/100\n",
            "100/100 [==============================] - 18s 183ms/step - loss: 0.3798 - acc: 0.8320 - val_loss: 0.5169 - val_acc: 0.7800\n",
            "Epoch 61/100\n",
            "100/100 [==============================] - 18s 184ms/step - loss: 0.3722 - acc: 0.8330 - val_loss: 0.8443 - val_acc: 0.7800\n",
            "Epoch 62/100\n",
            "100/100 [==============================] - 19s 185ms/step - loss: 0.3884 - acc: 0.8240 - val_loss: 0.6126 - val_acc: 0.7930\n",
            "Epoch 63/100\n",
            "100/100 [==============================] - 18s 183ms/step - loss: 0.3797 - acc: 0.8230 - val_loss: 0.5496 - val_acc: 0.8010\n",
            "Epoch 64/100\n",
            "100/100 [==============================] - 18s 184ms/step - loss: 0.3651 - acc: 0.8440 - val_loss: 0.3519 - val_acc: 0.7910\n",
            "Epoch 65/100\n",
            "100/100 [==============================] - 18s 184ms/step - loss: 0.3670 - acc: 0.8350 - val_loss: 0.3024 - val_acc: 0.7900\n",
            "Epoch 66/100\n",
            "100/100 [==============================] - 18s 184ms/step - loss: 0.3790 - acc: 0.8355 - val_loss: 0.4731 - val_acc: 0.8020\n",
            "Epoch 67/100\n",
            "100/100 [==============================] - 19s 188ms/step - loss: 0.3631 - acc: 0.8325 - val_loss: 0.5437 - val_acc: 0.7740\n",
            "Epoch 68/100\n",
            "100/100 [==============================] - 18s 185ms/step - loss: 0.3547 - acc: 0.8405 - val_loss: 0.4093 - val_acc: 0.7910\n",
            "Epoch 69/100\n",
            "100/100 [==============================] - 19s 185ms/step - loss: 0.3448 - acc: 0.8460 - val_loss: 0.4637 - val_acc: 0.7890\n",
            "Epoch 70/100\n",
            "100/100 [==============================] - 19s 186ms/step - loss: 0.3534 - acc: 0.8450 - val_loss: 0.1025 - val_acc: 0.7980\n",
            "Epoch 71/100\n",
            "100/100 [==============================] - 19s 186ms/step - loss: 0.3613 - acc: 0.8330 - val_loss: 0.5481 - val_acc: 0.7780\n",
            "Epoch 72/100\n",
            "100/100 [==============================] - 19s 188ms/step - loss: 0.3798 - acc: 0.8255 - val_loss: 0.7129 - val_acc: 0.7880\n",
            "Epoch 73/100\n",
            "100/100 [==============================] - 19s 188ms/step - loss: 0.3511 - acc: 0.8400 - val_loss: 0.4183 - val_acc: 0.8020\n",
            "Epoch 74/100\n",
            "100/100 [==============================] - 19s 186ms/step - loss: 0.3645 - acc: 0.8490 - val_loss: 0.3877 - val_acc: 0.8010\n",
            "Epoch 75/100\n",
            "100/100 [==============================] - 18s 185ms/step - loss: 0.3414 - acc: 0.8415 - val_loss: 0.6658 - val_acc: 0.7970\n",
            "Epoch 76/100\n",
            "100/100 [==============================] - 19s 186ms/step - loss: 0.3336 - acc: 0.8510 - val_loss: 0.5876 - val_acc: 0.7980\n",
            "Epoch 77/100\n",
            "100/100 [==============================] - 19s 189ms/step - loss: 0.3681 - acc: 0.8360 - val_loss: 0.5010 - val_acc: 0.7870\n",
            "Epoch 78/100\n",
            "100/100 [==============================] - 19s 186ms/step - loss: 0.3343 - acc: 0.8495 - val_loss: 0.6631 - val_acc: 0.7960\n",
            "Epoch 79/100\n",
            "100/100 [==============================] - 19s 187ms/step - loss: 0.3499 - acc: 0.8455 - val_loss: 0.3098 - val_acc: 0.7840\n",
            "Epoch 80/100\n",
            "100/100 [==============================] - 19s 187ms/step - loss: 0.3460 - acc: 0.8560 - val_loss: 0.6685 - val_acc: 0.7910\n",
            "Epoch 81/100\n",
            "100/100 [==============================] - 19s 185ms/step - loss: 0.3163 - acc: 0.8660 - val_loss: 0.3634 - val_acc: 0.7970\n",
            "Epoch 82/100\n",
            "100/100 [==============================] - 19s 188ms/step - loss: 0.3498 - acc: 0.8435 - val_loss: 0.2552 - val_acc: 0.8030\n",
            "Epoch 83/100\n",
            "100/100 [==============================] - 19s 186ms/step - loss: 0.3667 - acc: 0.8425 - val_loss: 0.6501 - val_acc: 0.7700\n",
            "Epoch 84/100\n",
            "100/100 [==============================] - 19s 186ms/step - loss: 0.3290 - acc: 0.8495 - val_loss: 0.3347 - val_acc: 0.7980\n",
            "Epoch 85/100\n",
            "100/100 [==============================] - 19s 186ms/step - loss: 0.3262 - acc: 0.8630 - val_loss: 0.5421 - val_acc: 0.7930\n",
            "Epoch 86/100\n",
            "100/100 [==============================] - 19s 187ms/step - loss: 0.3350 - acc: 0.8465 - val_loss: 0.2222 - val_acc: 0.7920\n",
            "Epoch 87/100\n",
            "100/100 [==============================] - 19s 189ms/step - loss: 0.3207 - acc: 0.8630 - val_loss: 0.3365 - val_acc: 0.7990\n",
            "Epoch 88/100\n",
            "100/100 [==============================] - 19s 190ms/step - loss: 0.3368 - acc: 0.8550 - val_loss: 0.4335 - val_acc: 0.7850\n",
            "Epoch 89/100\n",
            "100/100 [==============================] - 19s 186ms/step - loss: 0.3063 - acc: 0.8610 - val_loss: 0.3036 - val_acc: 0.7910\n",
            "Epoch 90/100\n",
            "100/100 [==============================] - 18s 185ms/step - loss: 0.3071 - acc: 0.8700 - val_loss: 0.1812 - val_acc: 0.8080\n",
            "Epoch 91/100\n",
            "100/100 [==============================] - 19s 186ms/step - loss: 0.3128 - acc: 0.8595 - val_loss: 0.3465 - val_acc: 0.8070\n",
            "Epoch 92/100\n",
            "100/100 [==============================] - 19s 193ms/step - loss: 0.3301 - acc: 0.8555 - val_loss: 0.3703 - val_acc: 0.8040\n",
            "Epoch 93/100\n",
            "100/100 [==============================] - 19s 191ms/step - loss: 0.3081 - acc: 0.8700 - val_loss: 0.3984 - val_acc: 0.8080\n",
            "Epoch 94/100\n",
            "100/100 [==============================] - 19s 191ms/step - loss: 0.3067 - acc: 0.8750 - val_loss: 0.9350 - val_acc: 0.8060\n",
            "Epoch 95/100\n",
            "100/100 [==============================] - 19s 190ms/step - loss: 0.2944 - acc: 0.8765 - val_loss: 0.2333 - val_acc: 0.8010\n",
            "Epoch 96/100\n",
            "100/100 [==============================] - 19s 185ms/step - loss: 0.2884 - acc: 0.8795 - val_loss: 0.2109 - val_acc: 0.7930\n",
            "Epoch 97/100\n",
            "100/100 [==============================] - 19s 186ms/step - loss: 0.2927 - acc: 0.8760 - val_loss: 0.3762 - val_acc: 0.7810\n",
            "Epoch 98/100\n",
            "100/100 [==============================] - 19s 186ms/step - loss: 0.2907 - acc: 0.8650 - val_loss: 0.2782 - val_acc: 0.8040\n",
            "Epoch 99/100\n",
            "100/100 [==============================] - 19s 186ms/step - loss: 0.3013 - acc: 0.8655 - val_loss: 0.5497 - val_acc: 0.7900\n",
            "Epoch 100/100\n",
            "100/100 [==============================] - 19s 185ms/step - loss: 0.3068 - acc: 0.8720 - val_loss: 1.5111 - val_acc: 0.7670\n"
          ],
          "name": "stdout"
        }
      ]
    },
    {
      "cell_type": "code",
      "metadata": {
        "id": "FAADtzVHOpj2",
        "colab_type": "code",
        "outputId": "0241ba26-7d36-4a6c-e817-04e8e87506d4",
        "colab": {
          "base_uri": "https://localhost:8080/",
          "height": 545
        }
      },
      "source": [
        "import matplotlib.pyplot as plt\n",
        "acc = history.history['acc']\n",
        "val_acc = history.history['val_acc']\n",
        "loss = history.history['loss']\n",
        "val_loss = history.history['val_loss']\n",
        "\n",
        "epochs = range(len(acc))\n",
        "\n",
        "plt.plot(epochs, acc, 'r', label='Training accuracy')\n",
        "plt.plot(epochs, val_acc, 'b', label='Validation accuracy')\n",
        "plt.title('Training and validation accuracy')\n",
        "\n",
        "plt.figure()\n",
        "\n",
        "plt.plot(epochs, loss, 'r', label='Training Loss')\n",
        "plt.plot(epochs, val_loss, 'b', label='Validation Loss')\n",
        "plt.title('Training and validation loss')\n",
        "plt.legend()\n",
        "\n",
        "plt.show()"
      ],
      "execution_count": 0,
      "outputs": [
        {
          "output_type": "display_data",
          "data": {
            "image/png": "[encoded data removed]",
            "text/plain": [
              "<Figure size 432x288 with 1 Axes>"
            ]
          },
          "metadata": {
            "tags": [],
            "needs_background": "light"
          }
        },
        {
          "output_type": "display_data",
          "data": {
            "image/png": "[encoded data removed]",
            "text/plain": [
              "<Figure size 432x288 with 1 Axes>"
            ]
          },
          "metadata": {
            "tags": [],
            "needs_background": "light"
          }
        }
      ]
    },
    {
      "cell_type": "code",
      "metadata": {
        "id": "ACpWrKWHXAQj",
        "colab_type": "code",
        "colab": {}
      },
      "source": [
        ""
      ],
      "execution_count": 0,
      "outputs": []
    }
  ]
}