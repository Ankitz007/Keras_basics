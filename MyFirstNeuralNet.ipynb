{
  "nbformat": 4,
  "nbformat_minor": 0,
  "metadata": {
    "colab": {
      "name": "MyFirstNeuralNet.ipynb",
      "provenance": [],
      "collapsed_sections": [],
      "authorship_tag": "ABX9TyOjT4F0S12YH/nAuWDQM3D3"
    },
    "kernelspec": {
      "name": "python3",
      "display_name": "Python 3"
    }
  },
  "cells": [
    {
      "cell_type": "code",
      "metadata": {
        "id": "YSpf2mxSguES",
        "colab_type": "code",
        "colab": {}
      },
      "source": [
        "# installing tensorflow-gpu on our Colab Notebook\n",
        "!pip install tensorflow-gpu"
      ],
      "execution_count": 0,
      "outputs": []
    },
    {
      "cell_type": "code",
      "metadata": {
        "id": "WsZjlQvSgw5p",
        "colab_type": "code",
        "colab": {}
      },
      "source": [
        "# importing the required libraries\n",
        "import tensorflow as tf\n",
        "import keras\n",
        "import numpy as np"
      ],
      "execution_count": 0,
      "outputs": []
    },
    {
      "cell_type": "code",
      "metadata": {
        "id": "Da4ICJ7AiOtU",
        "colab_type": "code",
        "colab": {}
      },
      "source": [
        "# Creating a model object\n",
        "# No. of neurons in our neural net = 1\n",
        "# Input will be a list with a single element of float type\n",
        "model = keras.Sequential([keras.layers.Dense(units=1,input_shape=[1])])"
      ],
      "execution_count": 0,
      "outputs": []
    },
    {
      "cell_type": "code",
      "metadata": {
        "id": "40EzVh-Yit8J",
        "colab_type": "code",
        "colab": {}
      },
      "source": [
        "# Compile the model with an optimizing algorithm and a suitable loss function\n",
        "model.compile(optimizer='sgd',loss='mean_squared_error')"
      ],
      "execution_count": 0,
      "outputs": []
    },
    {
      "cell_type": "code",
      "metadata": {
        "id": "0v_OBqBIkmnc",
        "colab_type": "code",
        "colab": {}
      },
      "source": [
        "# Giving input to the model\n",
        "xs = np.array([-1.0, 0.0, 1.0, 2.0, 3.0, 4.0], dtype=float)\n",
        "ys = np.array([-3.0, -1.0, 1.0, 3.0, 5.0, 7.0], dtype=float)"
      ],
      "execution_count": 0,
      "outputs": []
    },
    {
      "cell_type": "code",
      "metadata": {
        "id": "9eW-_lfcmZHG",
        "colab_type": "code",
        "colab": {}
      },
      "source": [
        "# fitting the input and our model\n",
        "# epochs is the no. of iterations of training loop\n",
        "model.fit(xs, ys, epochs=1000)"
      ],
      "execution_count": 0,
      "outputs": []
    },
    {
      "cell_type": "code",
      "metadata": {
        "id": "48E8WRtJmg8l",
        "colab_type": "code",
        "colab": {}
      },
      "source": [
        "# predicting the output using our trained model\n",
        "print(model.predict([10]))"
      ],
      "execution_count": 0,
      "outputs": []
    }
  ]
}